{
 "cells": [
  {
   "cell_type": "code",
   "execution_count": 127,
   "metadata": {
    "id": "UJ0Cz6QGg05b"
   },
   "outputs": [],
   "source": [
    "import pandas as pd\n",
    "df=pd.DataFrame()"
   ]
  },
  {
   "cell_type": "code",
   "execution_count": 130,
   "metadata": {
    "id": "UV7Nv-cdofN_"
   },
   "outputs": [],
   "source": [
    "df = pd.read_csv('C:/Users/sample.csv')\n"
   ]
  },
  {
   "cell_type": "code",
   "execution_count": 131,
   "metadata": {
    "colab": {
     "base_uri": "https://localhost:8080/",
     "height": 226
    },
    "id": "Q7mpZYaUolP5",
    "outputId": "4febfc3f-228f-473c-8aee-0901aa566d90"
   },
   "outputs": [
    {
     "data": {
      "text/html": [
       "<div>\n",
       "<style scoped>\n",
       "    .dataframe tbody tr th:only-of-type {\n",
       "        vertical-align: middle;\n",
       "    }\n",
       "\n",
       "    .dataframe tbody tr th {\n",
       "        vertical-align: top;\n",
       "    }\n",
       "\n",
       "    .dataframe thead th {\n",
       "        text-align: right;\n",
       "    }\n",
       "</style>\n",
       "<table border=\"1\" class=\"dataframe\">\n",
       "  <thead>\n",
       "    <tr style=\"text-align: right;\">\n",
       "      <th></th>\n",
       "      <th>Date</th>\n",
       "      <th>Quantity</th>\n",
       "    </tr>\n",
       "  </thead>\n",
       "  <tbody>\n",
       "    <tr>\n",
       "      <th>237</th>\n",
       "      <td>44799.0</td>\n",
       "      <td>3872</td>\n",
       "    </tr>\n",
       "    <tr>\n",
       "      <th>238</th>\n",
       "      <td>44800.0</td>\n",
       "      <td>3557</td>\n",
       "    </tr>\n",
       "    <tr>\n",
       "      <th>239</th>\n",
       "      <td>44801.0</td>\n",
       "      <td>3192</td>\n",
       "    </tr>\n",
       "    <tr>\n",
       "      <th>240</th>\n",
       "      <td>44802.0</td>\n",
       "      <td>3912</td>\n",
       "    </tr>\n",
       "    <tr>\n",
       "      <th>241</th>\n",
       "      <td>44803.0</td>\n",
       "      <td>4020</td>\n",
       "    </tr>\n",
       "  </tbody>\n",
       "</table>\n",
       "</div>"
      ],
      "text/plain": [
       "        Date  Quantity\n",
       "237  44799.0      3872\n",
       "238  44800.0      3557\n",
       "239  44801.0      3192\n",
       "240  44802.0      3912\n",
       "241  44803.0      4020"
      ]
     },
     "execution_count": 131,
     "metadata": {},
     "output_type": "execute_result"
    }
   ],
   "source": [
    "df.tail()"
   ]
  },
  {
   "cell_type": "code",
   "execution_count": 137,
   "metadata": {
    "colab": {
     "base_uri": "https://localhost:8080/",
     "height": 434
    },
    "id": "kKO7D16Uh6IT",
    "outputId": "35a7f0cc-26c3-479f-e99a-c1d0c8b27abf"
   },
   "outputs": [
    {
     "data": {
      "text/html": [
       "<div>\n",
       "<style scoped>\n",
       "    .dataframe tbody tr th:only-of-type {\n",
       "        vertical-align: middle;\n",
       "    }\n",
       "\n",
       "    .dataframe tbody tr th {\n",
       "        vertical-align: top;\n",
       "    }\n",
       "\n",
       "    .dataframe thead th {\n",
       "        text-align: right;\n",
       "    }\n",
       "</style>\n",
       "<table border=\"1\" class=\"dataframe\">\n",
       "  <thead>\n",
       "    <tr style=\"text-align: right;\">\n",
       "      <th></th>\n",
       "      <th>Date</th>\n",
       "      <th>Quantity</th>\n",
       "      <th>Quantity_LastMonth</th>\n",
       "      <th>Quantity_2Monthsback</th>\n",
       "      <th>Quantity_3Monthsback</th>\n",
       "    </tr>\n",
       "  </thead>\n",
       "  <tbody>\n",
       "    <tr>\n",
       "      <th>0</th>\n",
       "      <td>44562.0</td>\n",
       "      <td>2469</td>\n",
       "      <td>NaN</td>\n",
       "      <td>NaN</td>\n",
       "      <td>NaN</td>\n",
       "    </tr>\n",
       "    <tr>\n",
       "      <th>1</th>\n",
       "      <td>44563.0</td>\n",
       "      <td>2082</td>\n",
       "      <td>2469.0</td>\n",
       "      <td>NaN</td>\n",
       "      <td>NaN</td>\n",
       "    </tr>\n",
       "    <tr>\n",
       "      <th>2</th>\n",
       "      <td>44564.0</td>\n",
       "      <td>3047</td>\n",
       "      <td>2082.0</td>\n",
       "      <td>2469.0</td>\n",
       "      <td>NaN</td>\n",
       "    </tr>\n",
       "    <tr>\n",
       "      <th>3</th>\n",
       "      <td>44565.0</td>\n",
       "      <td>3121</td>\n",
       "      <td>3047.0</td>\n",
       "      <td>2082.0</td>\n",
       "      <td>2469.0</td>\n",
       "    </tr>\n",
       "    <tr>\n",
       "      <th>4</th>\n",
       "      <td>44566.0</td>\n",
       "      <td>2851</td>\n",
       "      <td>3121.0</td>\n",
       "      <td>3047.0</td>\n",
       "      <td>2082.0</td>\n",
       "    </tr>\n",
       "    <tr>\n",
       "      <th>...</th>\n",
       "      <td>...</td>\n",
       "      <td>...</td>\n",
       "      <td>...</td>\n",
       "      <td>...</td>\n",
       "      <td>...</td>\n",
       "    </tr>\n",
       "    <tr>\n",
       "      <th>237</th>\n",
       "      <td>44799.0</td>\n",
       "      <td>3872</td>\n",
       "      <td>3819.0</td>\n",
       "      <td>3473.0</td>\n",
       "      <td>4384.0</td>\n",
       "    </tr>\n",
       "    <tr>\n",
       "      <th>238</th>\n",
       "      <td>44800.0</td>\n",
       "      <td>3557</td>\n",
       "      <td>3872.0</td>\n",
       "      <td>3819.0</td>\n",
       "      <td>3473.0</td>\n",
       "    </tr>\n",
       "    <tr>\n",
       "      <th>239</th>\n",
       "      <td>44801.0</td>\n",
       "      <td>3192</td>\n",
       "      <td>3557.0</td>\n",
       "      <td>3872.0</td>\n",
       "      <td>3819.0</td>\n",
       "    </tr>\n",
       "    <tr>\n",
       "      <th>240</th>\n",
       "      <td>44802.0</td>\n",
       "      <td>3912</td>\n",
       "      <td>3192.0</td>\n",
       "      <td>3557.0</td>\n",
       "      <td>3872.0</td>\n",
       "    </tr>\n",
       "    <tr>\n",
       "      <th>241</th>\n",
       "      <td>44803.0</td>\n",
       "      <td>4020</td>\n",
       "      <td>3912.0</td>\n",
       "      <td>3192.0</td>\n",
       "      <td>3557.0</td>\n",
       "    </tr>\n",
       "  </tbody>\n",
       "</table>\n",
       "<p>242 rows × 5 columns</p>\n",
       "</div>"
      ],
      "text/plain": [
       "        Date  Quantity  Quantity_LastMonth  Quantity_2Monthsback  \\\n",
       "0    44562.0      2469                 NaN                   NaN   \n",
       "1    44563.0      2082              2469.0                   NaN   \n",
       "2    44564.0      3047              2082.0                2469.0   \n",
       "3    44565.0      3121              3047.0                2082.0   \n",
       "4    44566.0      2851              3121.0                3047.0   \n",
       "..       ...       ...                 ...                   ...   \n",
       "237  44799.0      3872              3819.0                3473.0   \n",
       "238  44800.0      3557              3872.0                3819.0   \n",
       "239  44801.0      3192              3557.0                3872.0   \n",
       "240  44802.0      3912              3192.0                3557.0   \n",
       "241  44803.0      4020              3912.0                3192.0   \n",
       "\n",
       "     Quantity_3Monthsback  \n",
       "0                     NaN  \n",
       "1                     NaN  \n",
       "2                     NaN  \n",
       "3                  2469.0  \n",
       "4                  2082.0  \n",
       "..                    ...  \n",
       "237                4384.0  \n",
       "238                3473.0  \n",
       "239                3819.0  \n",
       "240                3872.0  \n",
       "241                3557.0  \n",
       "\n",
       "[242 rows x 5 columns]"
      ]
     },
     "execution_count": 137,
     "metadata": {},
     "output_type": "execute_result"
    }
   ],
   "source": [
    "df['Quantity_LastMonth']=df['Quantity'].shift(+1)\n",
    "df['Quantity_2Monthsback']=df['Quantity'].shift(+2)\n",
    "df['Quantity_3Monthsback']=df['Quantity'].shift(+3)\n",
    "df"
   ]
  },
  {
   "cell_type": "code",
   "execution_count": 138,
   "metadata": {
    "colab": {
     "base_uri": "https://localhost:8080/",
     "height": 434
    },
    "id": "MzLs40rfoOmE",
    "outputId": "286c2990-5d7d-4245-d1da-a8b047807b2a"
   },
   "outputs": [
    {
     "data": {
      "text/html": [
       "<div>\n",
       "<style scoped>\n",
       "    .dataframe tbody tr th:only-of-type {\n",
       "        vertical-align: middle;\n",
       "    }\n",
       "\n",
       "    .dataframe tbody tr th {\n",
       "        vertical-align: top;\n",
       "    }\n",
       "\n",
       "    .dataframe thead th {\n",
       "        text-align: right;\n",
       "    }\n",
       "</style>\n",
       "<table border=\"1\" class=\"dataframe\">\n",
       "  <thead>\n",
       "    <tr style=\"text-align: right;\">\n",
       "      <th></th>\n",
       "      <th>Date</th>\n",
       "      <th>Quantity</th>\n",
       "      <th>Quantity_LastMonth</th>\n",
       "      <th>Quantity_2Monthsback</th>\n",
       "      <th>Quantity_3Monthsback</th>\n",
       "    </tr>\n",
       "  </thead>\n",
       "  <tbody>\n",
       "    <tr>\n",
       "      <th>3</th>\n",
       "      <td>44565.0</td>\n",
       "      <td>3121</td>\n",
       "      <td>3047.0</td>\n",
       "      <td>2082.0</td>\n",
       "      <td>2469.0</td>\n",
       "    </tr>\n",
       "    <tr>\n",
       "      <th>4</th>\n",
       "      <td>44566.0</td>\n",
       "      <td>2851</td>\n",
       "      <td>3121.0</td>\n",
       "      <td>3047.0</td>\n",
       "      <td>2082.0</td>\n",
       "    </tr>\n",
       "    <tr>\n",
       "      <th>5</th>\n",
       "      <td>44567.0</td>\n",
       "      <td>3006</td>\n",
       "      <td>2851.0</td>\n",
       "      <td>3121.0</td>\n",
       "      <td>3047.0</td>\n",
       "    </tr>\n",
       "    <tr>\n",
       "      <th>6</th>\n",
       "      <td>44568.0</td>\n",
       "      <td>2467</td>\n",
       "      <td>3006.0</td>\n",
       "      <td>2851.0</td>\n",
       "      <td>3121.0</td>\n",
       "    </tr>\n",
       "    <tr>\n",
       "      <th>7</th>\n",
       "      <td>44569.0</td>\n",
       "      <td>2442</td>\n",
       "      <td>2467.0</td>\n",
       "      <td>3006.0</td>\n",
       "      <td>2851.0</td>\n",
       "    </tr>\n",
       "    <tr>\n",
       "      <th>...</th>\n",
       "      <td>...</td>\n",
       "      <td>...</td>\n",
       "      <td>...</td>\n",
       "      <td>...</td>\n",
       "      <td>...</td>\n",
       "    </tr>\n",
       "    <tr>\n",
       "      <th>237</th>\n",
       "      <td>44799.0</td>\n",
       "      <td>3872</td>\n",
       "      <td>3819.0</td>\n",
       "      <td>3473.0</td>\n",
       "      <td>4384.0</td>\n",
       "    </tr>\n",
       "    <tr>\n",
       "      <th>238</th>\n",
       "      <td>44800.0</td>\n",
       "      <td>3557</td>\n",
       "      <td>3872.0</td>\n",
       "      <td>3819.0</td>\n",
       "      <td>3473.0</td>\n",
       "    </tr>\n",
       "    <tr>\n",
       "      <th>239</th>\n",
       "      <td>44801.0</td>\n",
       "      <td>3192</td>\n",
       "      <td>3557.0</td>\n",
       "      <td>3872.0</td>\n",
       "      <td>3819.0</td>\n",
       "    </tr>\n",
       "    <tr>\n",
       "      <th>240</th>\n",
       "      <td>44802.0</td>\n",
       "      <td>3912</td>\n",
       "      <td>3192.0</td>\n",
       "      <td>3557.0</td>\n",
       "      <td>3872.0</td>\n",
       "    </tr>\n",
       "    <tr>\n",
       "      <th>241</th>\n",
       "      <td>44803.0</td>\n",
       "      <td>4020</td>\n",
       "      <td>3912.0</td>\n",
       "      <td>3192.0</td>\n",
       "      <td>3557.0</td>\n",
       "    </tr>\n",
       "  </tbody>\n",
       "</table>\n",
       "<p>239 rows × 5 columns</p>\n",
       "</div>"
      ],
      "text/plain": [
       "        Date  Quantity  Quantity_LastMonth  Quantity_2Monthsback  \\\n",
       "3    44565.0      3121              3047.0                2082.0   \n",
       "4    44566.0      2851              3121.0                3047.0   \n",
       "5    44567.0      3006              2851.0                3121.0   \n",
       "6    44568.0      2467              3006.0                2851.0   \n",
       "7    44569.0      2442              2467.0                3006.0   \n",
       "..       ...       ...                 ...                   ...   \n",
       "237  44799.0      3872              3819.0                3473.0   \n",
       "238  44800.0      3557              3872.0                3819.0   \n",
       "239  44801.0      3192              3557.0                3872.0   \n",
       "240  44802.0      3912              3192.0                3557.0   \n",
       "241  44803.0      4020              3912.0                3192.0   \n",
       "\n",
       "     Quantity_3Monthsback  \n",
       "3                  2469.0  \n",
       "4                  2082.0  \n",
       "5                  3047.0  \n",
       "6                  3121.0  \n",
       "7                  2851.0  \n",
       "..                    ...  \n",
       "237                4384.0  \n",
       "238                3473.0  \n",
       "239                3819.0  \n",
       "240                3872.0  \n",
       "241                3557.0  \n",
       "\n",
       "[239 rows x 5 columns]"
      ]
     },
     "execution_count": 138,
     "metadata": {},
     "output_type": "execute_result"
    }
   ],
   "source": [
    "df=df.dropna()\n",
    "df"
   ]
  },
  {
   "cell_type": "code",
   "execution_count": 139,
   "metadata": {
    "id": "Rf0EZs7siAiU"
   },
   "outputs": [],
   "source": [
    "from sklearn.linear_model import LinearRegression\n",
    "lin_model=LinearRegression()"
   ]
  },
  {
   "cell_type": "code",
   "execution_count": 140,
   "metadata": {
    "id": "sOxBkE40uRA1"
   },
   "outputs": [],
   "source": [
    "from sklearn.ensemble import RandomForestRegressor\n",
    "model=RandomForestRegressor(n_estimators=100,max_features=3, random_state=1)\n"
   ]
  },
  {
   "cell_type": "code",
   "execution_count": 142,
   "metadata": {
    "colab": {
     "base_uri": "https://localhost:8080/"
    },
    "id": "ahAlfSPVv75K",
    "outputId": "5ea7ee90-2535-494f-df5e-2ae84d7bad2a"
   },
   "outputs": [
    {
     "name": "stdout",
     "output_type": "stream",
     "text": [
      "[[ 3047.  2082.  2469.]\n",
      " [ 3121.  3047.  2082.]\n",
      " [ 2851.  3121.  3047.]\n",
      " [ 3006.  2851.  3121.]\n",
      " [ 2467.  3006.  2851.]\n",
      " [ 2442.  2467.  3006.]\n",
      " [ 2288.  2442.  2467.]\n",
      " [ 2818.  2288.  2442.]\n",
      " [ 3131.  2818.  2288.]\n",
      " [ 3177.  3131.  2818.]\n",
      " [ 2746.  3177.  3131.]\n",
      " [ 3348.  2746.  3177.]\n",
      " [ 3047.  3348.  2746.]\n",
      " [ 2292.  3047.  3348.]\n",
      " [ 3130.  2292.  3047.]\n",
      " [ 3004.  3130.  2292.]\n",
      " [ 3889.  3004.  3130.]\n",
      " [ 3359.  3889.  3004.]\n",
      " [ 3177.  3359.  3889.]\n",
      " [ 3344.  3177.  3359.]\n",
      " [ 2376.  3344.  3177.]\n",
      " [ 4393.  2376.  3344.]\n",
      " [ 3648.  4393.  2376.]\n",
      " [ 3631.  3648.  4393.]\n",
      " [ 4184.  3631.  3648.]\n",
      " [ 4768.  4184.  3631.]\n",
      " [10730.  4768.  4184.]\n",
      " [ 7081. 10730.  4768.]\n",
      " [ 6549.  7081. 10730.]\n",
      " [ 4323.  6549.  7081.]\n",
      " [ 4582.  4323.  6549.]\n",
      " [ 4093.  4582.  4323.]\n",
      " [ 3529.  4093.  4582.]\n",
      " [ 3124.  3529.  4093.]\n",
      " [ 2779.  3124.  3529.]\n",
      " [ 5210.  2779.  3124.]\n",
      " [ 5226.  5210.  2779.]\n",
      " [ 4962.  5226.  5210.]\n",
      " [ 4029.  4962.  5226.]\n",
      " [ 5456.  4029.  4962.]\n",
      " [ 3944.  5456.  4029.]\n",
      " [ 3427.  3944.  5456.]\n",
      " [ 4588.  3427.  3944.]\n",
      " [ 4984.  4588.  3427.]\n",
      " [ 4761.  4984.  4588.]\n",
      " [ 4159.  4761.  4984.]\n",
      " [ 3776.  4159.  4761.]\n",
      " [ 4113.  3776.  4159.]\n",
      " [ 2984.  4113.  3776.]\n",
      " [ 4530.  2984.  4113.]\n",
      " [ 5114.  4530.  2984.]\n",
      " [ 4753.  5114.  4530.]\n",
      " [ 4679.  4753.  5114.]\n",
      " [ 4147.  4679.  4753.]\n",
      " [ 4188.  4147.  4679.]\n",
      " [ 3694.  4188.  4147.]\n",
      " [ 5025.  3694.  4188.]\n",
      " [ 4584.  5025.  3694.]\n",
      " [ 4974.  4584.  5025.]\n",
      " [ 4481.  4974.  4584.]\n",
      " [ 4190.  4481.  4974.]\n",
      " [ 3850.  4190.  4481.]\n",
      " [ 2451.  3850.  4190.]\n",
      " [ 4488.  2451.  3850.]\n",
      " [ 4386.  4488.  2451.]\n",
      " [ 4331.  4386.  4488.]\n",
      " [ 4254.  4331.  4386.]\n",
      " [ 3559.  4254.  4331.]\n",
      " [ 3645.  3559.  4254.]\n",
      " [ 2363.  3645.  3559.]\n",
      " [ 7224.  2363.  3645.]\n",
      " [ 6759.  7224.  2363.]\n",
      " [ 5382.  6759.  7224.]\n",
      " [ 3979.  5382.  6759.]\n",
      " [ 4262.  3979.  5382.]\n",
      " [ 4358.  4262.  3979.]\n",
      " [ 3291.  4358.  4262.]\n",
      " [ 4544.  3291.  4358.]\n",
      " [ 4704.  4544.  3291.]\n",
      " [ 4070.  4704.  4544.]\n",
      " [ 4534.  4070.  4704.]\n",
      " [ 4559.  4534.  4070.]\n",
      " [ 4458.  4559.  4534.]\n",
      " [ 2754.  4458.  4559.]\n",
      " [ 5745.  2754.  4458.]\n",
      " [ 5202.  5745.  2754.]\n",
      " [ 4378.  5202.  5745.]\n",
      " [ 3902.  4378.  5202.]\n",
      " [ 4310.  3902.  4378.]\n",
      " [ 4056.  4310.  3902.]\n",
      " [ 2940.  4056.  4310.]\n",
      " [ 4261.  2940.  4056.]\n",
      " [ 3454.  4261.  2940.]\n",
      " [ 4591.  3454.  4261.]\n",
      " [ 3965.  4591.  3454.]\n",
      " [ 3314.  3965.  4591.]\n",
      " [ 3248.  3314.  3965.]\n",
      " [ 2148.  3248.  3314.]\n",
      " [ 3440.  2148.  3248.]\n",
      " [ 3061.  3440.  2148.]\n",
      " [ 3661.  3061.  3440.]\n",
      " [ 3412.  3661.  3061.]\n",
      " [ 3256.  3412.  3661.]\n",
      " [ 3067.  3256.  3412.]\n",
      " [ 2937.  3067.  3256.]\n",
      " [ 3652.  2937.  3067.]\n",
      " [ 4172.  3652.  2937.]\n",
      " [ 4701.  4172.  3652.]\n",
      " [ 4310.  4701.  4172.]\n",
      " [ 4041.  4310.  4701.]\n",
      " [ 3601.  4041.  4310.]\n",
      " [ 3193.  3601.  4041.]\n",
      " [ 4290.  3193.  3601.]\n",
      " [ 5506.  4290.  3193.]\n",
      " [ 4868.  5506.  4290.]\n",
      " [ 5637.  4868.  5506.]\n",
      " [ 3001.  5637.  4868.]\n",
      " [ 1218.  3001.  5637.]\n",
      " [  482.  1218.  3001.]\n",
      " [  148.   482.  1218.]\n",
      " [  127.   148.   482.]\n",
      " [  324.   127.   148.]\n",
      " [  863.   324.   127.]\n",
      " [ 2460.   863.   324.]\n",
      " [ 3616.  2460.   863.]\n",
      " [ 2189.  3616.  2460.]\n",
      " [ 3949.  2189.  3616.]\n",
      " [ 5134.  3949.  2189.]\n",
      " [ 4971.  5134.  3949.]\n",
      " [ 4092.  4971.  5134.]\n",
      " [ 4097.  4092.  4971.]\n",
      " [ 4257.  4097.  4092.]\n",
      " [ 2968.  4257.  4097.]\n",
      " [ 4832.  2968.  4257.]\n",
      " [ 5376.  4832.  2968.]\n",
      " [ 4139.  5376.  4832.]\n",
      " [ 3888.  4139.  5376.]\n",
      " [ 4778.  3888.  4139.]\n",
      " [ 4130.  4778.  3888.]\n",
      " [ 2650.  4130.  4778.]\n",
      " [ 5048.  2650.  4130.]\n",
      " [ 5082.  5048.  2650.]\n",
      " [ 4593.  5082.  5048.]\n",
      " [ 5338.  4593.  5082.]\n",
      " [ 4555.  5338.  4593.]\n",
      " [ 4580.  4555.  5338.]\n",
      " [ 2961.  4580.  4555.]\n",
      " [ 5482.  2961.  4580.]\n",
      " [ 6811.  5482.  2961.]\n",
      " [ 4957.  6811.  5482.]\n",
      " [ 5360.  4957.  6811.]\n",
      " [ 4564.  5360.  4957.]\n",
      " [ 4627.  4564.  5360.]\n",
      " [ 3790.  4627.  4564.]\n",
      " [ 5418.  3790.  4627.]\n",
      " [ 5622.  5418.  3790.]\n",
      " [ 4985.  5622.  5418.]\n",
      " [ 3924.  4985.  5622.]\n",
      " [ 3969.  3924.  4985.]\n",
      " [ 4002.  3969.  3924.]\n",
      " [ 3203.  4002.  3969.]\n",
      " [ 4744.  3203.  4002.]\n",
      " [ 4665.  4744.  3203.]\n",
      " [ 4486.  4665.  4744.]\n",
      " [ 4474.  4486.  4665.]\n",
      " [ 3772.  4474.  4486.]\n",
      " [ 4325.  3772.  4474.]\n",
      " [ 2890.  4325.  3772.]\n",
      " [ 5543.  2890.  4325.]\n",
      " [ 4488.  5543.  2890.]\n",
      " [ 4965.  4488.  5543.]\n",
      " [ 5418.  4965.  4488.]\n",
      " [ 4743.  5418.  4965.]\n",
      " [ 4258.  4743.  5418.]\n",
      " [ 2451.  4258.  4743.]\n",
      " [ 5917.  2451.  4258.]\n",
      " [ 4657.  5917.  2451.]\n",
      " [ 5071.  4657.  5917.]\n",
      " [ 4695.  5071.  4657.]\n",
      " [ 4257.  4695.  5071.]\n",
      " [ 3735.  4257.  4695.]\n",
      " [ 2246.  3735.  4257.]\n",
      " [ 4297.  2246.  3735.]\n",
      " [ 5596.  4297.  2246.]\n",
      " [ 3588.  5596.  4297.]\n",
      " [ 2420.  3588.  5596.]\n",
      " [  508.  2420.  3588.]\n",
      " [  147.   508.  2420.]\n",
      " [   92.   147.   508.]\n",
      " [  208.    92.   147.]\n",
      " [  462.   208.    92.]\n",
      " [ 1624.   462.   208.]\n",
      " [ 2024.  1624.   462.]\n",
      " [ 2208.  2024.  1624.]\n",
      " [ 2247.  2208.  2024.]\n",
      " [ 2057.  2247.  2208.]\n",
      " [ 3671.  2057.  2247.]\n",
      " [ 3158.  3671.  2057.]\n",
      " [ 3200.  3158.  3671.]\n",
      " [ 2857.  3200.  3158.]\n",
      " [ 2733.  2857.  3200.]\n",
      " [ 2747.  2733.  2857.]\n",
      " [ 1667.  2747.  2733.]\n",
      " [ 2597.  1667.  2747.]\n",
      " [ 2592.  2597.  1667.]\n",
      " [ 2746.  2592.  2597.]\n",
      " [ 2878.  2746.  2592.]\n",
      " [ 2209.  2878.  2746.]\n",
      " [ 2531.  2209.  2878.]\n",
      " [ 2502.  2531.  2209.]\n",
      " [ 3394.  2502.  2531.]\n",
      " [ 3033.  3394.  2502.]\n",
      " [ 3500.  3033.  3394.]\n",
      " [ 3338.  3500.  3033.]\n",
      " [ 3445.  3338.  3500.]\n",
      " [ 2939.  3445.  3338.]\n",
      " [ 1025.  2939.  3445.]\n",
      " [  683.  1025.  2939.]\n",
      " [ 1009.   683.  1025.]\n",
      " [ 3356.  1009.   683.]\n",
      " [ 3207.  3356.  1009.]\n",
      " [ 3025.  3207.  3356.]\n",
      " [ 2384.  3025.  3207.]\n",
      " [ 2164.  2384.  3025.]\n",
      " [ 3881.  2164.  2384.]\n",
      " [ 3190.  3881.  2164.]\n",
      " [ 3015.  3190.  3881.]\n",
      " [ 3497.  3015.  3190.]\n",
      " [ 3700.  3497.  3015.]\n",
      " [ 3720.  3700.  3497.]\n",
      " [ 3022.  3720.  3700.]\n",
      " [ 4129.  3022.  3720.]\n",
      " [ 4384.  4129.  3022.]\n",
      " [ 3473.  4384.  4129.]\n",
      " [ 3819.  3473.  4384.]\n",
      " [ 3872.  3819.  3473.]\n",
      " [ 3557.  3872.  3819.]\n",
      " [ 3192.  3557.  3872.]\n",
      " [ 3912.  3192.  3557.]]\n"
     ]
    }
   ],
   "source": [
    "import numpy as np\n",
    "x1,x2,x3,y=df['Quantity_LastMonth'],df['Quantity_2Monthsback'],df['Quantity_3Monthsback'],df['Quantity']\n",
    "x1,x2,x3,y=np.array(x1),np.array(x2),np.array(x3),np.array(y)\n",
    "x1,x2,x3,y=x1.reshape(-1,1),x2.reshape(-1,1),x3.reshape(-1,1),y.reshape(-1,1)\n",
    "final_x=np.concatenate((x1,x2,x3),axis=1)\n",
    "print(final_x)"
   ]
  },
  {
   "cell_type": "code",
   "execution_count": 143,
   "metadata": {
    "id": "B99Pp3kHwdYS"
   },
   "outputs": [],
   "source": [
    "X_train,X_test,y_train,y_test=final_x[:-100],final_x[-100:],y[:-100],y[-100:]"
   ]
  },
  {
   "cell_type": "code",
   "execution_count": 144,
   "metadata": {
    "colab": {
     "base_uri": "https://localhost:8080/"
    },
    "id": "syZCIXs3p8sW",
    "outputId": "cbe93bdc-3798-4adf-af9c-56dac2a4ae19"
   },
   "outputs": [
    {
     "name": "stderr",
     "output_type": "stream",
     "text": [
      "<ipython-input-144-293373e02e7d>:1: DataConversionWarning: A column-vector y was passed when a 1d array was expected. Please change the shape of y to (n_samples,), for example using ravel().\n",
      "  model.fit(X_train,y_train)\n"
     ]
    },
    {
     "data": {
      "text/plain": [
       "LinearRegression()"
      ]
     },
     "execution_count": 144,
     "metadata": {},
     "output_type": "execute_result"
    }
   ],
   "source": [
    "model.fit(X_train,y_train)\n",
    "lin_model.fit(X_train,y_train)"
   ]
  },
  {
   "cell_type": "code",
   "execution_count": 145,
   "metadata": {
    "colab": {
     "base_uri": "https://localhost:8080/",
     "height": 483
    },
    "id": "FKtiB1vpwivF",
    "outputId": "7e7a0f72-98ae-4030-9869-d700eaf3a6e6"
   },
   "outputs": [
    {
     "data": {
      "image/png": "[encoded data removed]",
      "text/plain": [
       "<Figure size 864x576 with 1 Axes>"
      ]
     },
     "metadata": {
      "needs_background": "light"
     },
     "output_type": "display_data"
    }
   ],
   "source": [
    "pred=model.predict(X_test)\n",
    "import matplotlib.pyplot as plt\n",
    "plt.rcParams[\"figure.figsize\"] = (12,8)\n",
    "plt.plot(pred,label='Random_Forest_Predictions')\n",
    "plt.plot(y_test,label='Actual Quantity')\n",
    "plt.legend(loc=\"upper left\")\n",
    "plt.show()"
   ]
  },
  {
   "cell_type": "code",
   "execution_count": 146,
   "metadata": {
    "colab": {
     "base_uri": "https://localhost:8080/",
     "height": 374
    },
    "id": "zwtbfMXSq9TU",
    "outputId": "200b2b09-5f3e-4c9c-e687-5ac9ac9af0c0"
   },
   "outputs": [
    {
     "data": {
      "image/png": "[encoded data removed]",
      "text/plain": [
       "<Figure size 792x432 with 1 Axes>"
      ]
     },
     "metadata": {
      "needs_background": "light"
     },
     "output_type": "display_data"
    }
   ],
   "source": [
    "lin_pred=lin_model.predict(X_test)\n",
    "import matplotlib.pyplot as plt\n",
    "plt.rcParams[\"figure.figsize\"] = (11,6)\n",
    "plt.plot(lin_pred,label='Linear_Regression_Predictions')\n",
    "plt.plot(y_test,label='Actual Quantity')\n",
    "plt.legend(loc=\"upper left\")\n",
    "plt.show()"
   ]
  },
  {
   "cell_type": "code",
   "execution_count": 147,
   "metadata": {
    "id": "-K82kVphnFxT"
   },
   "outputs": [],
   "source": [
    "from sklearn.metrics import mean_squared_error\n",
    "from math import sqrt\n",
    "rmse_rf=sqrt(mean_squared_error(pred,y_test))\n",
    "rmse_lr=sqrt(mean_squared_error(lin_pred,y_test))"
   ]
  },
  {
   "cell_type": "code",
   "execution_count": 148,
   "metadata": {
    "colab": {
     "base_uri": "https://localhost:8080/"
    },
    "id": "TsrxmqpSwqi6",
    "outputId": "8568673b-4343-40ae-fc74-36af18d37d5e"
   },
   "outputs": [
    {
     "name": "stdout",
     "output_type": "stream",
     "text": [
      "Mean Squared Error for Random Forest Model is: 893.8705572352184\n",
      "Mean Squared Error for Linear Regression Model is: 957.7170374067034\n"
     ]
    }
   ],
   "source": [
    "print('Mean Squared Error for Random Forest Model is:',rmse_rf)\n",
    "print('Mean Squared Error for Linear Regression Model is:',rmse_lr)"
   ]
  }
 ],
 "metadata": {
  "colab": {
   "name": "Time_Series_Forecasting_ML.ipynb",
   "provenance": []
  },
  "kernelspec": {
   "display_name": "Python 3 (ipykernel)",
   "language": "python",
   "name": "python3"
  },
  "language_info": {
   "codemirror_mode": {
    "name": "ipython",
    "version": 3
   },
   "file_extension": ".py",
   "mimetype": "text/x-python",
   "name": "python",
   "nbconvert_exporter": "python",
   "pygments_lexer": "ipython3",
   "version": "3.8.5"
  }
 },
 "nbformat": 4,
 "nbformat_minor": 1
}
